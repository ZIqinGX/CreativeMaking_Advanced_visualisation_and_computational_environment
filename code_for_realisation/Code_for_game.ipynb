{
 "cells": [
  {
   "cell_type": "code",
   "execution_count": 1,
   "id": "d2c49719",
   "metadata": {},
   "outputs": [
    {
     "data": {
      "text/plain": [
       "True"
      ]
     },
     "execution_count": 1,
     "metadata": {},
     "output_type": "execute_result"
    }
   ],
   "source": [
    "import cv2\n",
    "import numpy as np\n",
    "import time\n",
    "\n",
    "# Define the range of colors in HSV color space\n",
    "lower_red = np.array([0, 100, 100])\n",
    "upper_red = np.array([10, 255, 255])\n",
    "lower_blue = np.array([100, 100, 100])\n",
    "upper_blue = np.array([130, 255, 255])\n",
    "lower_yellow = np.array([20, 100, 100])\n",
    "upper_yellow = np.array([30, 255, 255])\n",
    "\n",
    "# Create a video capture object\n",
    "cap = cv2.VideoCapture(0)\n",
    "\n",
    "# Define the output image filename\n",
    "output_filename = 'tracked_image.jpg'\n",
    "\n",
    "# Define the start time\n",
    "start_time = time.time()\n",
    "\n",
    "# Create a variable to store the total image\n",
    "total_image = None\n",
    "\n",
    "while (time.time() - start_time) < 20:\n",
    "    # Read frame from camera\n",
    "    ret, frame = cap.read()\n",
    "\n",
    "    # Convert the frame to HSV color space\n",
    "    hsv = cv2.cvtColor(frame, cv2.COLOR_BGR2HSV)\n",
    "\n",
    "    # Filter the red, blue, and yellow colors\n",
    "    mask_red = cv2.inRange(hsv, lower_red, upper_red)\n",
    "    mask_blue = cv2.inRange(hsv, lower_blue, upper_blue)\n",
    "    mask_yellow = cv2.inRange(hsv, lower_yellow, upper_yellow)\n",
    "\n",
    "    # Combine the masks to get the track image\n",
    "    mask = mask_red + mask_blue + mask_yellow\n",
    "\n",
    "    # Create a color image to show the tracked colors\n",
    "    track_image = np.zeros_like(frame)\n",
    "    track_image[mask_red > 0] = (0, 0, 255)\n",
    "    track_image[mask_blue > 0] = (255, 0, 0)\n",
    "    track_image[mask_yellow > 0] = (0, 255, 255)\n",
    "\n",
    "    # Add the current frame to the total image\n",
    "    if total_image is None:\n",
    "        total_image = track_image\n",
    "    else:\n",
    "        total_image += track_image\n",
    "\n",
    "    # Display the frame and track image\n",
    "    cv2.imshow('frame', frame)\n",
    "    cv2.imshow('track', track_image)\n",
    "\n",
    "    # Check for key press\n",
    "    if cv2.waitKey(1) & 0xFF == ord('q'):\n",
    "        break\n",
    "\n",
    "# Release the video capture object\n",
    "cap.release()\n",
    "\n",
    "# Destroy all windows\n",
    "cv2.destroyAllWindows()\n",
    "\n",
    "# Save the total image to disk\n",
    "cv2.imwrite(output_filename, total_image)\n"
   ]
  },
  {
   "cell_type": "code",
   "execution_count": null,
   "id": "625faa33",
   "metadata": {},
   "outputs": [],
   "source": []
  }
 ],
 "metadata": {
  "kernelspec": {
   "display_name": "Python 3 (ipykernel)",
   "language": "python",
   "name": "python3"
  },
  "language_info": {
   "codemirror_mode": {
    "name": "ipython",
    "version": 3
   },
   "file_extension": ".py",
   "mimetype": "text/x-python",
   "name": "python",
   "nbconvert_exporter": "python",
   "pygments_lexer": "ipython3",
   "version": "3.9.16"
  }
 },
 "nbformat": 4,
 "nbformat_minor": 5
}
